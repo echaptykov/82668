{
 "cells": [
  {
   "cell_type": "code",
   "execution_count": 1,
   "metadata": {},
   "outputs": [],
   "source": [
    "import numpy as np\n",
    "import matplotlib.pyplot as plt"
   ]
  },
  {
   "cell_type": "markdown",
   "metadata": {},
   "source": [
    "Задание 7.1"
   ]
  },
  {
   "cell_type": "code",
   "execution_count": 10,
   "metadata": {},
   "outputs": [],
   "source": [
    "zp = np.array([35, 45, 190, 200, 40, 70, 54, 150, 120, 110])\n",
    "ks = np.array( [401, 574, 874, 919, 459, 739, 653, 902, 746, 832])\n",
    "n = 10"
   ]
  },
  {
   "cell_type": "code",
   "execution_count": 6,
   "metadata": {},
   "outputs": [
    {
     "data": {
      "text/plain": [
       "2.620538882402765"
      ]
     },
     "execution_count": 6,
     "metadata": {},
     "output_type": "execute_result"
    }
   ],
   "source": [
    "b = (np.mean(zp * ks) - np.mean(zp) * np.mean(ks)) / (np.mean(zp**2) - np.mean(zp) ** 2)\n",
    "b"
   ]
  },
  {
   "cell_type": "code",
   "execution_count": 7,
   "metadata": {},
   "outputs": [
    {
     "data": {
      "text/plain": [
       "444.1773573243596"
      ]
     },
     "execution_count": 7,
     "metadata": {},
     "output_type": "execute_result"
    }
   ],
   "source": [
    "a = np.mean(ks) - b * np.mean(zp)\n",
    "a"
   ]
  },
  {
   "cell_type": "markdown",
   "metadata": {},
   "source": [
    "y = 444.18 + 2.62*x"
   ]
  },
  {
   "cell_type": "code",
   "execution_count": 21,
   "metadata": {},
   "outputs": [
    {
     "data": {
      "image/png": "[encoded data removed]",
      "text/plain": [
       "<Figure size 432x288 with 1 Axes>"
      ]
     },
     "metadata": {
      "needs_background": "light"
     },
     "output_type": "display_data"
    }
   ],
   "source": [
    "plt.scatter(zp,ks)\n",
    "y = 444.18 + 2.62*zp\n",
    "plt.plot(zp,y)\n",
    "plt.title('ZP vs KS')  \n",
    "plt.xlabel('ZP')  \n",
    "plt.ylabel('KS')  \n",
    "plt.show()"
   ]
  },
  {
   "cell_type": "code",
   "execution_count": 19,
   "metadata": {},
   "outputs": [
    {
     "data": {
      "text/plain": [
       "7.000986193293886"
      ]
     },
     "execution_count": 19,
     "metadata": {},
     "output_type": "execute_result"
    }
   ],
   "source": [
    "# без использования intercept\n",
    "b1 = np.sum(ks)/np.sum(zp)\n",
    "b1"
   ]
  },
  {
   "cell_type": "markdown",
   "metadata": {},
   "source": [
    "Задание 7.2"
   ]
  },
  {
   "cell_type": "code",
   "execution_count": 135,
   "metadata": {},
   "outputs": [
    {
     "name": "stdout",
     "output_type": "stream",
     "text": [
      "b: 5.890\n",
      "MSE: 56516.858\n"
     ]
    }
   ],
   "source": [
    "α =0.00001\n",
    "iterations = 1000\n",
    "X = zp.reshape((10,1))\n",
    "y = ks.reshape((10,1))\n",
    "b = 1\n",
    "for it in range(iterations):    \n",
    "    b = b - α * (1 / n) * np.sum((X * b - y) * X)\n",
    "    cost = (1 / n) * np.sum((X * b - y)**2)\n",
    "    \n",
    "print('b: {:0.3f}'.format(b))\n",
    "print('MSE: {:0.3f}'.format(cost))"
   ]
  },
  {
   "cell_type": "markdown",
   "metadata": {},
   "source": [
    "Задание 7.3"
   ]
  },
  {
   "cell_type": "markdown",
   "metadata": {},
   "source": [
    "Если известна дисперсия, то используется таблица значений функции Лапласа"
   ]
  },
  {
   "cell_type": "markdown",
   "metadata": {},
   "source": [
    "Задание 7.4"
   ]
  },
  {
   "cell_type": "code",
   "execution_count": 136,
   "metadata": {},
   "outputs": [
    {
     "name": "stdout",
     "output_type": "stream",
     "text": [
      "b0: 444.177\n",
      "b1: 2.621\n",
      "MSE: 6470.414\n"
     ]
    }
   ],
   "source": [
    "α =0.000001\n",
    "iterations = 10000\n",
    "X = zp.reshape((10,1))\n",
    "y = ks.reshape((10,1))\n",
    "b0 = 100\n",
    "b1 = 1\n",
    "b0_prev = 100\n",
    "\n",
    "for it in range(iterations):    \n",
    "    b0_prev = b0\n",
    "    b1 = b1 - α * (1 / n) * np.sum((b0 + X * b1 - y) * X)\n",
    "    b0 = np.mean(y) - b1 * np.mean(X)\n",
    "    cost = (1 / n) * np.sum((b0_prev + X * b1 - y)**2)\n",
    "\n",
    "print('b0: {:0.3f}'.format(b0_prev))\n",
    "print('b1: {:0.3f}'.format(b1))\n",
    "print('MSE: {:0.3f}'.format(cost))"
   ]
  }
 ],
 "metadata": {
  "kernelspec": {
   "display_name": "Python 3",
   "language": "python",
   "name": "python3"
  },
  "language_info": {
   "codemirror_mode": {
    "name": "ipython",
    "version": 3
   },
   "file_extension": ".py",
   "mimetype": "text/x-python",
   "name": "python",
   "nbconvert_exporter": "python",
   "pygments_lexer": "ipython3",
   "version": "3.7.6"
  }
 },
 "nbformat": 4,
 "nbformat_minor": 4
}
