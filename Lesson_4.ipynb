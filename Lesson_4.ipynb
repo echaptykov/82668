{
 "cells": [
  {
   "cell_type": "markdown",
   "metadata": {},
   "source": [
    "Задание 4"
   ]
  },
  {
   "cell_type": "code",
   "execution_count": 4,
   "metadata": {},
   "outputs": [
    {
     "data": {
      "text/plain": [
       "500.0"
      ]
     },
     "execution_count": 4,
     "metadata": {},
     "output_type": "execute_result"
    }
   ],
   "source": [
    "# 4.1\n",
    "# Среднее значение (Математическое ожидание)\n",
    "(800+200)/2"
   ]
  },
  {
   "cell_type": "code",
   "execution_count": 5,
   "metadata": {},
   "outputs": [
    {
     "data": {
      "text/plain": [
       "30000.0"
      ]
     },
     "execution_count": 5,
     "metadata": {},
     "output_type": "execute_result"
    }
   ],
   "source": [
    "# Дисперсия\n",
    "(800-200)**2 / 12"
   ]
  },
  {
   "cell_type": "code",
   "execution_count": 9,
   "metadata": {},
   "outputs": [
    {
     "data": {
      "text/plain": [
       "2.049193338482967"
      ]
     },
     "execution_count": 9,
     "metadata": {},
     "output_type": "execute_result"
    }
   ],
   "source": [
    "# 4.2\n",
    "\n",
    "a = 0.5\n",
    "Dx = 0.2\n",
    "b = (12*Dx)**0.5+a\n",
    "b"
   ]
  },
  {
   "cell_type": "code",
   "execution_count": 11,
   "metadata": {},
   "outputs": [
    {
     "data": {
      "text/plain": [
       "1.2745966692414834"
      ]
     },
     "execution_count": 11,
     "metadata": {},
     "output_type": "execute_result"
    }
   ],
   "source": [
    "# Среднее значение\n",
    "(b+a)/2"
   ]
  },
  {
   "cell_type": "code",
   "execution_count": null,
   "metadata": {},
   "outputs": [],
   "source": [
    "# 4.3\n",
    "# a) M(x) = -2\n",
    "# б) D(x) = 16\n",
    "# в) std = 4"
   ]
  },
  {
   "cell_type": "markdown",
   "metadata": {},
   "source": [
    "4.4\n",
    "   \n",
    " a) P(182 < X < ∞) = Ф((∞ - 174)/8) - Ф((182-174)/8) = Ф(∞) - Ф(1) = 0.5 - 0.3413447 = 0.1586553\n",
    " \n",
    " Ответ: 0.1586553\n",
    "   \n",
    " б) P(190 < X < ∞) = Ф((∞ - 190)/8) - Ф((190-174)/8) = Ф(∞) - Ф(2) = 0.5 - 0.4772499 = 0.0207501\n",
    " \n",
    " Ответ: 0.0207501\n",
    " \n",
    " в) P(190 < X < 166) = Ф((190-174)/8) - Ф((166-174)/8) = Ф(2) - Ф(-1) = 0.4772499 + 0.3413447 = 0.8185946\n",
    " \n",
    " Ответ: 0.8185946\n",
    " \n",
    " г) P(182 < X < 166) = Ф((182-174)/8) - Ф((166-174)/8) = Ф(1) - Ф(-1) = 0.3413447 + 0.3413447 = 0.6826894\n",
    " \n",
    " Ответ: 0.6826894\n",
    " \n",
    " д) P(190 < X < 158) = Ф((190-174)/8) - Ф((158-174)/8) = Ф(2) - Ф(-2) = 0.4772499 + 0.4772499 = 0.9544998\n",
    " \n",
    " Ответ: 0.9544998\n",
    " \n",
    " е) P(0 < X < 150) = Ф((150-174)/8) - Ф((0-174)/8) = Ф(-3) - Ф(-21,75) = -0.4986501+0.5 = 0.0001349\n",
    "    P(190 < X < ∞) = Ф((∞-190)/8) - Ф((190-174)/8) = Ф(∞) - Ф(2) = 0.5 - 0.4772499 = 0.0207501\n",
    "    \n",
    "    0.001349+0.0207501 = 0.0220991\n",
    "    \n",
    " Ответ: 0.0220991\n",
    " \n",
    " ё) P(0 < X < 150) = Ф((150-174)/8) - Ф((0-174)/8) = Ф(-3) - Ф(-21,75) = -0.4986501 + 0.5 = 0.0001349\n",
    "    P(198 < X < ∞) = Ф((∞-198)/8) - Ф((198-174)/8) = Ф(∞) - Ф(3) = 0.5 - 0.4986501 = 0.001349\n",
    "    \n",
    "    0.001349 + 0.001349 = 0.002698\n",
    "    \n",
    " Ответ: 0.002698\n",
    " \n",
    " ж) P(0 < X < 166) = Ф((166-174)/8) - Ф((0-174)/8) = Ф(-1)-Ф(-21,75) = -0.3413447 + 0.5 = 0.1586553\n",
    " \n",
    " Ответ: 0.1586553\n",
    "     "
   ]
  },
  {
   "cell_type": "markdown",
   "metadata": {},
   "source": [
    "4.5\n",
    "\n",
    "σ = 5\n",
    "(190-178)/5 = 2.4σ\n",
    "\n",
    "Ответ: 2.4σ"
   ]
  }
 ],
 "metadata": {
  "kernelspec": {
   "display_name": "Python 3",
   "language": "python",
   "name": "python3"
  },
  "language_info": {
   "codemirror_mode": {
    "name": "ipython",
    "version": 3
   },
   "file_extension": ".py",
   "mimetype": "text/x-python",
   "name": "python",
   "nbconvert_exporter": "python",
   "pygments_lexer": "ipython3",
   "version": "3.7.6"
  }
 },
 "nbformat": 4,
 "nbformat_minor": 4
}
