{
  "nbformat": 4,
  "nbformat_minor": 0,
  "metadata": {
    "colab": {
      "name": "Копия блокнота \"Lesson2.ipynb\"",
      "provenance": [],
      "collapsed_sections": []
    },
    "kernelspec": {
      "name": "python3",
      "display_name": "Python 3"
    }
  },
  "cells": [
    {
      "cell_type": "code",
      "metadata": {
        "id": "KO7az3ypKcPj"
      },
      "source": [
        "import numpy as np\n",
        "from math import factorial\n",
        "\n",
        "def combinations(n, k):\n",
        "    return int(factorial(n) / (factorial(k) * factorial(n - k)))"
      ],
      "execution_count": null,
      "outputs": []
    },
    {
      "cell_type": "markdown",
      "metadata": {
        "id": "g7Mb6ql5YIkM"
      },
      "source": [
        "Задание 1"
      ]
    },
    {
      "cell_type": "code",
      "metadata": {
        "id": "0ENDwgYxLoqJ",
        "outputId": "b061cd85-acfd-4428-8339-27beacef53db",
        "colab": {
          "base_uri": "https://localhost:8080/"
        }
      },
      "source": [
        " # Используем формулу Бернулли\n",
        " p = 0.8\n",
        " n = 100\n",
        " k = 85\n",
        " q = 1-p\n",
        "\n",
        "combinations(n,k)*p**k*q**(n-k)"
      ],
      "execution_count": null,
      "outputs": [
        {
          "output_type": "execute_result",
          "data": {
            "text/plain": [
              "0.048061793700746355"
            ]
          },
          "metadata": {
            "tags": []
          },
          "execution_count": 5
        }
      ]
    },
    {
      "cell_type": "markdown",
      "metadata": {
        "id": "AwWKfBt2YeWT"
      },
      "source": [
        "Задание 2"
      ]
    },
    {
      "cell_type": "code",
      "metadata": {
        "id": "__cAtR14YhyB",
        "outputId": "0270295a-dac0-4b65-c41e-fcb80683f570",
        "colab": {
          "base_uri": "https://localhost:8080/"
        }
      },
      "source": [
        "# Используем распределение Пуассона\n",
        "# 2.1\n",
        "\n",
        "n = 5000\n",
        "m = 0\n",
        "p = 0.0004\n",
        "lambda_ = n * p\n",
        "\n",
        "(lambda_**m / np.math.factorial(m)) * np.exp(-lambda_)"
      ],
      "execution_count": null,
      "outputs": [
        {
          "output_type": "execute_result",
          "data": {
            "text/plain": [
              "0.1353352832366127"
            ]
          },
          "metadata": {
            "tags": []
          },
          "execution_count": 6
        }
      ]
    },
    {
      "cell_type": "code",
      "metadata": {
        "id": "9HZYjaIscAtf",
        "outputId": "576ab124-17d7-4b42-b242-f9e2401226bc",
        "colab": {
          "base_uri": "https://localhost:8080/"
        }
      },
      "source": [
        "#2.2\n",
        "\n",
        "n = 5000\n",
        "m = 2\n",
        "p = 0.0004\n",
        "lambda_ = n * p\n",
        "\n",
        "(lambda_**m / np.math.factorial(m)) * np.exp(-lambda_)"
      ],
      "execution_count": null,
      "outputs": [
        {
          "output_type": "execute_result",
          "data": {
            "text/plain": [
              "0.2706705664732254"
            ]
          },
          "metadata": {
            "tags": []
          },
          "execution_count": 7
        }
      ]
    },
    {
      "cell_type": "markdown",
      "metadata": {
        "id": "HbJ8zRMFet3y"
      },
      "source": [
        "Задание 3"
      ]
    },
    {
      "cell_type": "code",
      "metadata": {
        "id": "38-GUMZCdx9-",
        "outputId": "e106b9d2-0f64-4897-d494-0a7b40df792a",
        "colab": {
          "base_uri": "https://localhost:8080/"
        }
      },
      "source": [
        "n = 2**144\n",
        "m = combinations(144,70)\n",
        "\n",
        "m/n"
      ],
      "execution_count": null,
      "outputs": [
        {
          "output_type": "execute_result",
          "data": {
            "text/plain": [
              "0.06281178035144776"
            ]
          },
          "metadata": {
            "tags": []
          },
          "execution_count": 22
        }
      ]
    },
    {
      "cell_type": "markdown",
      "metadata": {
        "id": "GyISEQmoiaCo"
      },
      "source": [
        "Задание 4"
      ]
    },
    {
      "cell_type": "code",
      "metadata": {
        "id": "K9VXuTMLgzlp",
        "outputId": "5d078899-1bda-42de-9200-a95451172bb2",
        "colab": {
          "base_uri": "https://localhost:8080/"
        }
      },
      "source": [
        "# 4.1 Вариант 1\n",
        "p1_1 = 7/10\n",
        "p2_1 = 9/11\n",
        "p1_2 = 6/9\n",
        "p2_2 = 8/10\n",
        "\n",
        "P1 = p1_1*p1_2*p2_1*p2_2\n",
        "P1"
      ],
      "execution_count": null,
      "outputs": [
        {
          "output_type": "execute_result",
          "data": {
            "text/plain": [
              "0.3054545454545454"
            ]
          },
          "metadata": {
            "tags": []
          },
          "execution_count": 25
        }
      ]
    },
    {
      "cell_type": "code",
      "metadata": {
        "id": "3SpiH5qaiupw",
        "outputId": "b85938c8-0431-4fe8-f638-c4b9f3c83ac1",
        "colab": {
          "base_uri": "https://localhost:8080/"
        }
      },
      "source": [
        "# 4.1 Вариант 2\n",
        "p1 = combinations(7,2)/combinations(10,2)\n",
        "p2 = combinations(9,2)/combinations(11,2)\n",
        "P1 = p1*p2\n",
        "P1"
      ],
      "execution_count": null,
      "outputs": [
        {
          "output_type": "execute_result",
          "data": {
            "text/plain": [
              "0.3054545454545455"
            ]
          },
          "metadata": {
            "tags": []
          },
          "execution_count": 26
        }
      ]
    },
    {
      "cell_type": "code",
      "metadata": {
        "id": "KeVoPFaXnrIe",
        "outputId": "58607ee8-c2de-4527-8709-fee50b7a34d7",
        "colab": {
          "base_uri": "https://localhost:8080/"
        }
      },
      "source": [
        "# 4.2\n",
        "# Общее количество комбинаций\n",
        "C = combinations(10, 2) * combinations(11, 2)\n",
        "# Оба белых шара из первого ящика\n",
        "C1 = combinations(7,2)*combinations(2,2)\n",
        "# Оба белых шара из второго ящика\n",
        "C2 = combinations(3,2)*combinations(9,2)\n",
        "# По одному белому шару из каждого ящика\n",
        "C3 = combinations(7,1)*combinations(3,1)*combinations(9,1)*combinations(2,1)\n",
        "\n",
        "P = (C1+C2+C3)/C\n",
        "P"
      ],
      "execution_count": null,
      "outputs": [
        {
          "output_type": "execute_result",
          "data": {
            "text/plain": [
              "0.20484848484848484"
            ]
          },
          "metadata": {
            "tags": []
          },
          "execution_count": 35
        }
      ]
    },
    {
      "cell_type": "code",
      "metadata": {
        "id": "3eP3zFKMvfT_",
        "outputId": "9ecb663e-d68d-45b9-c154-bb97c755ad97",
        "colab": {
          "base_uri": "https://localhost:8080/"
        }
      },
      "source": [
        "#4.3\n",
        "P = 1 - combinations(2,2)*combinations(3,2)/C\n",
        "P"
      ],
      "execution_count": null,
      "outputs": [
        {
          "output_type": "execute_result",
          "data": {
            "text/plain": [
              "0.9987878787878788"
            ]
          },
          "metadata": {
            "tags": []
          },
          "execution_count": 41
        }
      ]
    }
  ]
}